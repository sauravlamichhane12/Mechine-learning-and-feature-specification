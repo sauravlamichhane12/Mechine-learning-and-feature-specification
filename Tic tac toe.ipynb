{
 "cells": [
  {
   "cell_type": "markdown",
   "id": "31063701",
   "metadata": {},
   "source": [
    "# Tic tac toe"
   ]
  },
  {
   "cell_type": "code",
   "execution_count": 1,
   "id": "5992822f",
   "metadata": {},
   "outputs": [],
   "source": [
    "import random\n",
    "class TictacToe:\n",
    "    def __init__(self,player1,player2):\n",
    "        self.player_1 = player1\n",
    "        self.player_2 = player2\n",
    "        self.reset()\n",
    "    \n",
    "    def reset(self, ):\n",
    "        self.board = [\" \"] * 9 #9 blank place in a list formate\n",
    "        self.player_1_turn = random.choice([True,False]) #suru ma jun player ley pani palo pauna sak6 so randomly jasko palo ni auna sak6\n",
    "        \n",
    "    def check_full(self, ):\n",
    "        emptys = [x for x in self.board if x == ' '] # board ko sabai box ma ja input x if the box is empty\n",
    "        if len(emptys) == 0:\n",
    "            return True\n",
    "        return False\n",
    "    \n",
    "    def print_board(self):\n",
    "        b = self.board\n",
    "        #board design\n",
    "        board = f\"\"\"\n",
    "        {b[0]} | {b[1]} | {b[2]}\n",
    "        ---------\n",
    "        {b[3]} | {b[4]} | {b[5]}\n",
    "        ---------\n",
    "        {b[6]} | {b[7]} | {b[8]}\n",
    "        \"\"\"\n",
    "        print(board)\n",
    "        \n",
    "    def check_winner(self,char):\n",
    "        b = self.board\n",
    "        winner = False\n",
    "        #lookup table banauna lako\n",
    "        conditions = [\n",
    "            (0,1,2),\n",
    "            (3,4,5),\n",
    "            (6,7,8),\n",
    "            (0,3,6),\n",
    "            (1,4,7),\n",
    "            (2,5,8),\n",
    "            (0,4,8),\n",
    "            (2,4,6)\n",
    "        ]\n",
    "        for each_condition in conditions:\n",
    "            i1,i2,i3 = each_condition\n",
    "            if char == b[i1] == b[i2] == b[i3]:\n",
    "                winner = True\n",
    "                break\n",
    "        return winner\n",
    "    def play(self, ):\n",
    "        self.player_1.new_game()\n",
    "        self.player_2.new_game()\n",
    "        self.reset()\n",
    "        \n",
    "        while True:\n",
    "            if self.player_1_turn:\n",
    "                player = self.player_1\n",
    "            else:\n",
    "                player = self.player_2\n",
    "            \n",
    "            #Ask for move\n",
    "            if player.type =='human':\n",
    "                print(f\"{player.name}'s Turn\")\n",
    "                self.print_board()\n",
    "            move = player.make_move()\n",
    "            \n",
    "            #check validity\n",
    "            if move <0 or move > 8:\n",
    "                print('Invalid Move')\n",
    "                break\n",
    "                continue\n",
    "            if self.board[move] != ' ':\n",
    "                print('Invalid Move')\n",
    "                continue\n",
    "                \n",
    "            #put char\n",
    "            self.board[move] = player.char\n",
    "            \n",
    "            #check winner\n",
    "            win = self.check_winner(player.char)\n",
    "            if win:\n",
    "                player.winner()\n",
    "                player.reward('5 Star')\n",
    "                break\n",
    "                \n",
    "            #check full or Draw vako hoki haina herna lako\n",
    "            full = self.check_full()\n",
    "            if full:\n",
    "                print('Game Ended as Draw')\n",
    "                player.reward('Orange Ball')\n",
    "                break\n",
    "                \n",
    "            #swapping the turn\n",
    "            self.player_1_turn = not self.player_1_turn\n",
    "            "
   ]
  },
  {
   "cell_type": "code",
   "execution_count": 2,
   "id": "16b26e08",
   "metadata": {},
   "outputs": [],
   "source": [
    "#player ko class\n",
    "class Player:\n",
    "    def __init__(self, name,char,type = 'human'):\n",
    "        self.name = name\n",
    "        self.char = char\n",
    "        self.type = type\n",
    "\n",
    "    def make_move(self):#user bata input liney lai \n",
    "        ans = input('Enter your move: ')\n",
    "        return int(ans)\n",
    "    \n",
    "    def  new_game(self):\n",
    "        print(f'{self.name} in {self.char}')\n",
    "        \n",
    "    def winner(self):\n",
    "        print(f'{self.name} is winner')\n",
    "        \n",
    "    def reward(self,reward_value):\n",
    "        print(f'{self.name} gets reward of {reward_value}')\n",
    "        "
   ]
  },
  {
   "cell_type": "code",
   "execution_count": 3,
   "id": "97fc0de5",
   "metadata": {},
   "outputs": [],
   "source": [
    "p1 = Player('Hari Bahadur', 'X')\n",
    "p2 = Player('Timila', 'O')"
   ]
  },
  {
   "cell_type": "code",
   "execution_count": 4,
   "id": "74daca13",
   "metadata": {},
   "outputs": [
    {
     "name": "stdout",
     "output_type": "stream",
     "text": [
      "Hari Bahadur gets reward of 10\n"
     ]
    }
   ],
   "source": [
    "#unit testing\n",
    "p1.reward(10)"
   ]
  },
  {
   "cell_type": "code",
   "execution_count": 5,
   "id": "7149f640",
   "metadata": {},
   "outputs": [
    {
     "name": "stdout",
     "output_type": "stream",
     "text": [
      "Timila is winner\n"
     ]
    }
   ],
   "source": [
    "#unit testing\n",
    "p2.winner()"
   ]
  },
  {
   "cell_type": "code",
   "execution_count": 6,
   "id": "b6345761",
   "metadata": {},
   "outputs": [
    {
     "name": "stdout",
     "output_type": "stream",
     "text": [
      "Timila in O\n"
     ]
    }
   ],
   "source": [
    "#unit testing\n",
    "p2.new_game()"
   ]
  },
  {
   "cell_type": "code",
   "execution_count": 7,
   "id": "3e9f848b",
   "metadata": {},
   "outputs": [
    {
     "ename": "NameError",
     "evalue": "name 'game' is not defined",
     "output_type": "error",
     "traceback": [
      "\u001b[0;31m---------------------------------------------------------------------------\u001b[0m",
      "\u001b[0;31mNameError\u001b[0m                                 Traceback (most recent call last)",
      "\u001b[0;32m/var/folders/61/r_vs5l1j7m91kw2v12g_zjsr0000gn/T/ipykernel_3620/4229117916.py\u001b[0m in \u001b[0;36m<module>\u001b[0;34m\u001b[0m\n\u001b[0;32m----> 1\u001b[0;31m \u001b[0mgame\u001b[0m\u001b[0;34m.\u001b[0m\u001b[0mcheck_full\u001b[0m\u001b[0;34m(\u001b[0m\u001b[0;34m)\u001b[0m\u001b[0;34m\u001b[0m\u001b[0;34m\u001b[0m\u001b[0m\n\u001b[0m",
      "\u001b[0;31mNameError\u001b[0m: name 'game' is not defined"
     ]
    }
   ],
   "source": [
    "game.check_full()"
   ]
  },
  {
   "cell_type": "code",
   "execution_count": null,
   "id": "2de84c80",
   "metadata": {},
   "outputs": [],
   "source": [
    "game.play()"
   ]
  },
  {
   "cell_type": "code",
   "execution_count": null,
   "id": "ee940004",
   "metadata": {},
   "outputs": [],
   "source": []
  }
 ],
 "metadata": {
  "kernelspec": {
   "display_name": "Python 3 (ipykernel)",
   "language": "python",
   "name": "python3"
  },
  "language_info": {
   "codemirror_mode": {
    "name": "ipython",
    "version": 3
   },
   "file_extension": ".py",
   "mimetype": "text/x-python",
   "name": "python",
   "nbconvert_exporter": "python",
   "pygments_lexer": "ipython3",
   "version": "3.9.7"
  }
 },
 "nbformat": 4,
 "nbformat_minor": 5
}
