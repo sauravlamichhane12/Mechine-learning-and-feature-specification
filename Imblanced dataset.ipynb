{
 "cells": [
  {
   "cell_type": "code",
   "execution_count": 1,
   "id": "b1bedbfa",
   "metadata": {},
   "outputs": [],
   "source": [
    "import numpy as np\n",
    "import pandas as pd\n",
    "import matplotlib.pyplot as plt"
   ]
  },
  {
   "cell_type": "code",
   "execution_count": 2,
   "id": "794b3cec",
   "metadata": {},
   "outputs": [
    {
     "name": "stdout",
     "output_type": "stream",
     "text": [
      "Requirement already satisfied: imblearn in /Users/sauravlamichhane/opt/anaconda3/lib/python3.9/site-packages (0.0)\n",
      "Requirement already satisfied: imbalanced-learn in /Users/sauravlamichhane/opt/anaconda3/lib/python3.9/site-packages (from imblearn) (0.10.1)\n",
      "Requirement already satisfied: scipy>=1.3.2 in /Users/sauravlamichhane/opt/anaconda3/lib/python3.9/site-packages (from imbalanced-learn->imblearn) (1.7.1)\n",
      "Requirement already satisfied: scikit-learn>=1.0.2 in /Users/sauravlamichhane/opt/anaconda3/lib/python3.9/site-packages (from imbalanced-learn->imblearn) (1.2.1)\n",
      "Requirement already satisfied: joblib>=1.1.1 in /Users/sauravlamichhane/opt/anaconda3/lib/python3.9/site-packages (from imbalanced-learn->imblearn) (1.2.0)\n",
      "Requirement already satisfied: threadpoolctl>=2.0.0 in /Users/sauravlamichhane/opt/anaconda3/lib/python3.9/site-packages (from imbalanced-learn->imblearn) (2.2.0)\n",
      "Requirement already satisfied: numpy>=1.17.3 in /Users/sauravlamichhane/opt/anaconda3/lib/python3.9/site-packages (from imbalanced-learn->imblearn) (1.20.3)\n"
     ]
    }
   ],
   "source": [
    "!pip install imblearn"
   ]
  },
  {
   "cell_type": "code",
   "execution_count": 3,
   "id": "f840554a",
   "metadata": {},
   "outputs": [],
   "source": [
    "from imblearn.over_sampling import SMOTE"
   ]
  },
  {
   "cell_type": "code",
   "execution_count": 4,
   "id": "e96afaf6",
   "metadata": {},
   "outputs": [],
   "source": [
    "from imblearn.datasets import make_imbalance"
   ]
  },
  {
   "cell_type": "code",
   "execution_count": 5,
   "id": "a3aa92ec",
   "metadata": {},
   "outputs": [],
   "source": [
    "from sklearn.datasets import load_iris"
   ]
  },
  {
   "cell_type": "code",
   "execution_count": 6,
   "id": "c11b9b3d",
   "metadata": {},
   "outputs": [],
   "source": [
    "iris_data=load_iris()\n",
    "X=iris_data.data\n",
    "y=iris_data.target"
   ]
  },
  {
   "cell_type": "code",
   "execution_count": 7,
   "id": "ed7e3a17",
   "metadata": {},
   "outputs": [],
   "source": [
    "X_imbalanced, y_imbalanced=make_imbalance(X,y,sampling_strategy={\n",
    "    0:10,\n",
    "    1:20,\n",
    "    2:30\n",
    "})"
   ]
  },
  {
   "cell_type": "code",
   "execution_count": 8,
   "id": "e3154b79",
   "metadata": {},
   "outputs": [
    {
     "data": {
      "text/plain": [
       "(array([0, 1, 2]), array([10, 20, 30]))"
      ]
     },
     "execution_count": 8,
     "metadata": {},
     "output_type": "execute_result"
    }
   ],
   "source": [
    "np.unique(y_imbalanced,return_counts=True)"
   ]
  },
  {
   "cell_type": "code",
   "execution_count": 9,
   "id": "7ae76fd1",
   "metadata": {},
   "outputs": [],
   "source": [
    "smote=SMOTE()"
   ]
  },
  {
   "cell_type": "code",
   "execution_count": 10,
   "id": "be98a378",
   "metadata": {},
   "outputs": [],
   "source": [
    "X_balanced,y_balanced=smote.fit_resample(X_imbalanced,y_imbalanced)"
   ]
  },
  {
   "cell_type": "code",
   "execution_count": 11,
   "id": "15a3d464",
   "metadata": {},
   "outputs": [
    {
     "data": {
      "text/plain": [
       "(array([0, 1, 2]), array([30, 30, 30]))"
      ]
     },
     "execution_count": 11,
     "metadata": {},
     "output_type": "execute_result"
    }
   ],
   "source": [
    "np.unique(y_balanced,return_counts=True)"
   ]
  },
  {
   "cell_type": "markdown",
   "id": "d73bad8f",
   "metadata": {},
   "source": [
    "# Classification"
   ]
  },
  {
   "cell_type": "code",
   "execution_count": 12,
   "id": "bc793eb3",
   "metadata": {},
   "outputs": [],
   "source": [
    "import seaborn as sns"
   ]
  },
  {
   "cell_type": "code",
   "execution_count": 13,
   "id": "0aee2191",
   "metadata": {},
   "outputs": [],
   "source": [
    "from sklearn.preprocessing import StandardScaler"
   ]
  },
  {
   "cell_type": "code",
   "execution_count": 14,
   "id": "edf83ed9",
   "metadata": {},
   "outputs": [],
   "source": [
    "from sklearn.linear_model import LogisticRegression"
   ]
  },
  {
   "cell_type": "code",
   "execution_count": 15,
   "id": "f82afc61",
   "metadata": {},
   "outputs": [],
   "source": [
    "from sklearn.model_selection import train_test_split"
   ]
  },
  {
   "cell_type": "code",
   "execution_count": 16,
   "id": "3ffb47c8",
   "metadata": {},
   "outputs": [],
   "source": [
    "data = pd.read_csv('../dataset for Python/Social_Network_Ads.csv')"
   ]
  },
  {
   "cell_type": "code",
   "execution_count": 17,
   "id": "e2ce73ac",
   "metadata": {},
   "outputs": [
    {
     "data": {
      "text/html": [
       "<div>\n",
       "<style scoped>\n",
       "    .dataframe tbody tr th:only-of-type {\n",
       "        vertical-align: middle;\n",
       "    }\n",
       "\n",
       "    .dataframe tbody tr th {\n",
       "        vertical-align: top;\n",
       "    }\n",
       "\n",
       "    .dataframe thead th {\n",
       "        text-align: right;\n",
       "    }\n",
       "</style>\n",
       "<table border=\"1\" class=\"dataframe\">\n",
       "  <thead>\n",
       "    <tr style=\"text-align: right;\">\n",
       "      <th></th>\n",
       "      <th>User ID</th>\n",
       "      <th>Gender</th>\n",
       "      <th>Age</th>\n",
       "      <th>EstimatedSalary</th>\n",
       "      <th>Purchased</th>\n",
       "    </tr>\n",
       "  </thead>\n",
       "  <tbody>\n",
       "    <tr>\n",
       "      <th>152</th>\n",
       "      <td>15699247</td>\n",
       "      <td>Male</td>\n",
       "      <td>31</td>\n",
       "      <td>76000</td>\n",
       "      <td>0</td>\n",
       "    </tr>\n",
       "    <tr>\n",
       "      <th>0</th>\n",
       "      <td>15624510</td>\n",
       "      <td>Male</td>\n",
       "      <td>19</td>\n",
       "      <td>19000</td>\n",
       "      <td>0</td>\n",
       "    </tr>\n",
       "    <tr>\n",
       "      <th>198</th>\n",
       "      <td>15745083</td>\n",
       "      <td>Male</td>\n",
       "      <td>26</td>\n",
       "      <td>80000</td>\n",
       "      <td>0</td>\n",
       "    </tr>\n",
       "    <tr>\n",
       "      <th>203</th>\n",
       "      <td>15809347</td>\n",
       "      <td>Female</td>\n",
       "      <td>41</td>\n",
       "      <td>71000</td>\n",
       "      <td>0</td>\n",
       "    </tr>\n",
       "    <tr>\n",
       "      <th>301</th>\n",
       "      <td>15678201</td>\n",
       "      <td>Male</td>\n",
       "      <td>48</td>\n",
       "      <td>74000</td>\n",
       "      <td>1</td>\n",
       "    </tr>\n",
       "  </tbody>\n",
       "</table>\n",
       "</div>"
      ],
      "text/plain": [
       "      User ID  Gender  Age  EstimatedSalary  Purchased\n",
       "152  15699247    Male   31            76000          0\n",
       "0    15624510    Male   19            19000          0\n",
       "198  15745083    Male   26            80000          0\n",
       "203  15809347  Female   41            71000          0\n",
       "301  15678201    Male   48            74000          1"
      ]
     },
     "execution_count": 17,
     "metadata": {},
     "output_type": "execute_result"
    }
   ],
   "source": [
    "data.sample(5)"
   ]
  },
  {
   "cell_type": "code",
   "execution_count": 18,
   "id": "9271dd8e",
   "metadata": {},
   "outputs": [],
   "source": [
    "data.drop(['User ID'], axis=1, inplace=True)"
   ]
  },
  {
   "cell_type": "code",
   "execution_count": 19,
   "id": "a7b232bb",
   "metadata": {},
   "outputs": [
    {
     "name": "stderr",
     "output_type": "stream",
     "text": [
      "/Users/sauravlamichhane/opt/anaconda3/lib/python3.9/site-packages/seaborn/_decorators.py:36: FutureWarning: Pass the following variable as a keyword arg: x. From version 0.12, the only valid positional argument will be `data`, and passing other arguments without an explicit keyword will result in an error or misinterpretation.\n",
      "  warnings.warn(\n"
     ]
    },
    {
     "data": {
      "text/plain": [
       "<AxesSubplot:xlabel='Gender', ylabel='count'>"
      ]
     },
     "execution_count": 19,
     "metadata": {},
     "output_type": "execute_result"
    },
    {
     "data": {
      "image/png": "[encoded data removed]",
      "text/plain": [
       "<Figure size 432x288 with 1 Axes>"
      ]
     },
     "metadata": {
      "needs_background": "light"
     },
     "output_type": "display_data"
    }
   ],
   "source": [
    "sns.countplot('Gender',data=data, hue='Purchased')"
   ]
  },
  {
   "cell_type": "code",
   "execution_count": 20,
   "id": "30bb1a1f",
   "metadata": {},
   "outputs": [],
   "source": [
    "data.drop(['Gender'], axis=1, inplace=True)"
   ]
  },
  {
   "cell_type": "code",
   "execution_count": 21,
   "id": "adb1e590",
   "metadata": {},
   "outputs": [
    {
     "data": {
      "image/png": "[encoded data removed]",
      "text/plain": [
       "<Figure size 1080x720 with 1 Axes>"
      ]
     },
     "metadata": {
      "needs_background": "light"
     },
     "output_type": "display_data"
    }
   ],
   "source": [
    "plt.figure(figsize=(15,10))\n",
    "sns.countplot(x='Age', data=data, hue='Purchased')\n",
    "plt.show()"
   ]
  },
  {
   "cell_type": "code",
   "execution_count": 22,
   "id": "107926e5",
   "metadata": {},
   "outputs": [
    {
     "data": {
      "image/png": "[encoded data removed]",
      "text/plain": [
       "<Figure size 1440x720 with 1 Axes>"
      ]
     },
     "metadata": {
      "needs_background": "light"
     },
     "output_type": "display_data"
    }
   ],
   "source": [
    "plt.figure(figsize=(20,10))\n",
    "sns.countplot(x='EstimatedSalary', data=data, hue='Purchased')\n",
    "plt.show()"
   ]
  },
  {
   "cell_type": "code",
   "execution_count": 23,
   "id": "e193fce2",
   "metadata": {},
   "outputs": [],
   "source": [
    "y=data['Purchased']\n",
    "X=data[['Age','EstimatedSalary']]"
   ]
  },
  {
   "cell_type": "code",
   "execution_count": 24,
   "id": "7aef2634",
   "metadata": {},
   "outputs": [],
   "source": [
    "X_train,X_test,y_train,y_test=train_test_split(X,y,test_size=0.2,\n",
    "                                              random_state=45,stratify=y)"
   ]
  },
  {
   "cell_type": "code",
   "execution_count": 25,
   "id": "cae74d50",
   "metadata": {},
   "outputs": [],
   "source": [
    "scaler=StandardScaler()"
   ]
  },
  {
   "cell_type": "code",
   "execution_count": 26,
   "id": "f7852521",
   "metadata": {},
   "outputs": [
    {
     "data": {
      "text/plain": [
       "array([[-1.16675176,  0.31696931],\n",
       "       [ 0.66913093, -1.2780306 ],\n",
       "       [ 0.86238174, -0.65775286],\n",
       "       [-0.78025014,  1.38030259],\n",
       "       [ 0.47588012,  1.88243219],\n",
       "       [-0.10387231,  2.20733958],\n",
       "       [ 0.95900714,  1.91196923],\n",
       "       [-0.97350095, -0.42145657],\n",
       "       [ 0.37925471,  1.1440063 ],\n",
       "       [ 0.28262931, -0.18516029],\n",
       "       [-0.10387231, -0.48053065],\n",
       "       [ 1.53875957,  1.1440063 ],\n",
       "       [ 1.05563255, -0.12608622],\n",
       "       [ 0.28262931,  0.05113599],\n",
       "       [-1.45662798, -0.09654918],\n",
       "       [-0.29712312,  0.81909891],\n",
       "       [ 0.1860039 , -0.65775286],\n",
       "       [ 0.28262931,  0.08067303],\n",
       "       [-0.58699933,  2.38456179],\n",
       "       [-0.87687555, -0.65775286],\n",
       "       [-0.10387231,  2.26641365],\n",
       "       [ 1.53875957, -1.2780306 ],\n",
       "       [-1.16675176, -1.10080839],\n",
       "       [-0.68362474, -0.09654918],\n",
       "       [ 1.24888336,  2.26641365],\n",
       "       [ 2.02188659, -0.80543804],\n",
       "       [ 0.76575633, -1.39617874],\n",
       "       [-0.29712312, -0.42145657],\n",
       "       [-1.55325338, -1.24849357],\n",
       "       [ 0.37925471,  0.16928413],\n",
       "       [ 0.66913093,  0.28743228],\n",
       "       [-1.84312959, -1.2780306 ],\n",
       "       [-0.49037393, -0.775901  ],\n",
       "       [ 0.28262931,  0.52372856],\n",
       "       [ 2.02188659,  2.17780255],\n",
       "       [-0.58699933,  1.94150626],\n",
       "       [-1.16675176, -0.51006768],\n",
       "       [ 1.82863578, -0.2737714 ],\n",
       "       [-0.87687555, -0.775901  ],\n",
       "       [-0.20049771,  1.43937666],\n",
       "       [ 0.28262931, -0.30330843],\n",
       "       [-0.10387231,  0.70095077],\n",
       "       [ 1.15225795,  0.5532656 ],\n",
       "       [-1.16675176, -1.54386392],\n",
       "       [-1.45662798, -0.18516029],\n",
       "       [-0.78025014,  0.58280263],\n",
       "       [-0.10387231,  0.31696931],\n",
       "       [-0.10387231,  0.02159896],\n",
       "       [-1.16675176,  0.34650635],\n",
       "       [ 1.15225795, -1.45525282],\n",
       "       [ 1.92526119,  0.93724706],\n",
       "       [-0.20049771,  1.64613591],\n",
       "       [-0.87687555,  0.16928413],\n",
       "       [ 0.0893785 , -0.80543804],\n",
       "       [ 1.15225795, -0.74636396],\n",
       "       [-0.29712312, -0.48053065],\n",
       "       [-0.10387231,  0.05113599],\n",
       "       [-0.39374852, -0.775901  ],\n",
       "       [ 1.82863578, -1.2780306 ],\n",
       "       [-0.68362474, -1.60293799],\n",
       "       [ 0.37925471,  0.31696931],\n",
       "       [-1.939755  ,  0.37604338],\n",
       "       [-0.68362474, -1.04173432],\n",
       "       [ 1.82863578, -1.07127135],\n",
       "       [-0.00724691, -0.30330843],\n",
       "       [ 0.66913093,  1.82335812],\n",
       "       [-0.78025014,  0.52372856],\n",
       "       [-0.00724691,  1.29169148],\n",
       "       [-0.29712312, -0.3623825 ],\n",
       "       [-0.58699933, -1.51432689],\n",
       "       [-1.07012636,  0.5532656 ],\n",
       "       [ 2.118512  , -0.80543804],\n",
       "       [ 0.1860039 ,  1.11446927],\n",
       "       [-1.26337717,  0.31696931],\n",
       "       [ 0.0893785 ,  0.05113599],\n",
       "       [ 0.0893785 , -0.80543804],\n",
       "       [-0.68362474, -1.51432689],\n",
       "       [ 0.86238174, -1.45525282],\n",
       "       [ 1.73201038,  1.88243219],\n",
       "       [ 0.28262931, -0.71682693],\n",
       "       [-1.84312959,  0.19882117],\n",
       "       [ 0.37925471, -0.12608622],\n",
       "       [-1.16675176,  0.43511745],\n",
       "       [-1.74650419, -0.98266025],\n",
       "       [-0.00724691,  0.05113599],\n",
       "       [-1.07012636,  0.61233967],\n",
       "       [-0.58699933,  1.49845073],\n",
       "       [-0.29712312,  0.22835821],\n",
       "       [ 0.28262931, -0.51006768],\n",
       "       [-0.68362474,  0.19882117],\n",
       "       [-0.29712312, -1.30756764],\n",
       "       [ 0.28262931,  0.08067303],\n",
       "       [ 1.34550876, -1.42571578],\n",
       "       [ 1.63538497,  1.79382108],\n",
       "       [ 0.95900714,  2.11872847],\n",
       "       [ 0.57250552,  2.0596544 ],\n",
       "       [ 0.37925471,  0.02159896],\n",
       "       [-0.97350095, -0.30330843],\n",
       "       [-0.49037393, -0.53960472],\n",
       "       [ 1.05563255,  2.11872847],\n",
       "       [ 0.86238174, -0.53960472],\n",
       "       [-0.29712312,  0.08067303],\n",
       "       [-1.45662798, -0.62821582],\n",
       "       [ 0.28262931, -1.15988246],\n",
       "       [ 0.1860039 ,  0.25789524],\n",
       "       [ 1.34550876,  0.61233967],\n",
       "       [-0.29712312, -0.2737714 ],\n",
       "       [ 0.76575633,  0.5532656 ],\n",
       "       [-0.00724691, -0.24423436],\n",
       "       [-0.58699933,  0.90771002],\n",
       "       [-1.07012636, -0.3623825 ],\n",
       "       [ 1.73201038, -0.2737714 ],\n",
       "       [ 1.92526119, -0.92358618],\n",
       "       [ 0.86238174,  1.11446927],\n",
       "       [ 1.44213416,  1.02585816],\n",
       "       [-1.84312959,  0.46465449],\n",
       "       [-1.07012636, -1.13034543],\n",
       "       [ 2.02188659,  0.19882117],\n",
       "       [ 0.28262931, -0.51006768],\n",
       "       [-0.97350095,  0.46465449],\n",
       "       [-1.74650419,  0.37604338],\n",
       "       [ 0.86238174,  1.29169148],\n",
       "       [-0.97350095,  0.58280263],\n",
       "       [-0.10387231,  0.16928413],\n",
       "       [ 1.44213416, -1.04173432],\n",
       "       [-0.20049771, -1.07127135],\n",
       "       [-0.29712312,  0.6418767 ],\n",
       "       [ 1.15225795, -0.98266025],\n",
       "       [-1.16675176,  0.31696931],\n",
       "       [ 1.92526119, -0.65775286],\n",
       "       [-1.07012636,  0.58280263],\n",
       "       [ 0.95900714, -1.1894195 ],\n",
       "       [-0.78025014, -0.21469733],\n",
       "       [ 1.53875957,  1.02585816],\n",
       "       [-0.87687555,  0.40558042],\n",
       "       [-0.97350095,  0.52372856],\n",
       "       [-0.49037393, -1.21895653],\n",
       "       [ 0.57250552, -0.89404914],\n",
       "       [-0.97350095, -0.74636396],\n",
       "       [ 0.28262931, -0.2737714 ],\n",
       "       [ 0.86238174, -0.775901  ],\n",
       "       [ 0.0893785 ,  1.91196923],\n",
       "       [-1.64987879,  0.08067303],\n",
       "       [-0.29712312, -0.56914175],\n",
       "       [ 0.66913093, -1.39617874],\n",
       "       [-0.10387231, -1.07127135],\n",
       "       [ 0.95900714, -1.07127135],\n",
       "       [-1.07012636, -1.45525282],\n",
       "       [ 0.95900714,  0.1397471 ],\n",
       "       [ 0.1860039 ,  0.16928413],\n",
       "       [ 2.02188659,  0.5532656 ],\n",
       "       [ 2.118512  , -0.80543804],\n",
       "       [ 0.95900714,  1.46891369],\n",
       "       [ 0.76575633, -1.36664171],\n",
       "       [ 1.82863578,  0.1397471 ],\n",
       "       [-1.64987879, -0.03747511],\n",
       "       [ 0.37925471,  0.28743228],\n",
       "       [ 0.1860039 , -0.12608622],\n",
       "       [-0.78025014, -0.59867879],\n",
       "       [ 0.28262931,  0.31696931],\n",
       "       [-0.29712312, -0.24423436],\n",
       "       [-1.45662798, -1.21895653],\n",
       "       [-1.07012636, -0.45099361],\n",
       "       [-1.16675176, -1.57340096],\n",
       "       [-0.97350095, -0.95312321],\n",
       "       [-0.78025014,  1.94150626],\n",
       "       [-1.16675176, -1.60293799],\n",
       "       [-0.68362474,  0.05113599],\n",
       "       [-0.29712312,  0.16928413],\n",
       "       [-1.84312959, -1.48478985],\n",
       "       [ 0.86238174, -1.36664171],\n",
       "       [ 0.37925471, -0.45099361],\n",
       "       [-0.00724691, -0.53960472],\n",
       "       [-1.939755  ,  0.49419152],\n",
       "       [ 0.76575633,  0.1397471 ],\n",
       "       [ 1.34550876,  2.03011737],\n",
       "       [ 0.76575633, -1.21895653],\n",
       "       [ 1.44213416,  0.37604338],\n",
       "       [ 0.1860039 ,  0.16928413],\n",
       "       [ 1.05563255, -0.89404914],\n",
       "       [ 0.0893785 ,  0.28743228],\n",
       "       [ 1.05563255, -0.98266025],\n",
       "       [-0.29712312, -1.39617874],\n",
       "       [ 0.37925471, -0.15562326],\n",
       "       [-0.39374852, -0.775901  ],\n",
       "       [-0.10387231, -0.3623825 ],\n",
       "       [-1.939755  , -0.51006768],\n",
       "       [ 0.76575633,  0.37604338],\n",
       "       [ 0.0893785 ,  0.11021006],\n",
       "       [ 0.0893785 ,  1.08493223],\n",
       "       [-1.64987879, -1.57340096],\n",
       "       [ 0.86238174, -1.04173432],\n",
       "       [ 1.44213416,  2.17780255],\n",
       "       [ 1.05563255,  0.58280263],\n",
       "       [ 0.37925471, -0.12608622],\n",
       "       [ 0.0893785 ,  1.91196923],\n",
       "       [-0.29712312, -1.36664171],\n",
       "       [ 1.92526119, -1.36664171],\n",
       "       [-0.29712312, -1.45525282],\n",
       "       [ 0.1860039 , -0.30330843],\n",
       "       [ 0.95900714, -1.15988246],\n",
       "       [ 0.37925471, -0.45099361],\n",
       "       [ 2.02188659,  0.40558042],\n",
       "       [-0.00724691, -0.56914175],\n",
       "       [-1.55325338, -1.51432689],\n",
       "       [-0.39374852,  0.08067303],\n",
       "       [-0.78025014, -1.60293799],\n",
       "       [ 0.1860039 , -0.24423436],\n",
       "       [-0.00724691, -0.42145657],\n",
       "       [-1.55325338,  0.34650635],\n",
       "       [-0.39374852,  1.35076555],\n",
       "       [-0.20049771,  0.16928413],\n",
       "       [ 1.73201038,  1.02585816],\n",
       "       [ 1.05563255, -1.21895653],\n",
       "       [ 2.118512  ,  0.96678409],\n",
       "       [-1.07012636, -1.54386392],\n",
       "       [ 0.37925471,  0.31696931],\n",
       "       [-1.07012636, -0.33284547],\n",
       "       [-0.20049771,  1.67567294],\n",
       "       [ 0.1860039 , -0.3623825 ],\n",
       "       [-0.10387231,  0.28743228],\n",
       "       [-0.00724691, -0.12608622],\n",
       "       [-0.00724691,  0.05113599],\n",
       "       [ 1.05563255,  0.5532656 ],\n",
       "       [-0.10387231,  0.08067303],\n",
       "       [ 0.86238174, -0.59867879],\n",
       "       [ 1.63538497, -0.89404914],\n",
       "       [ 0.66913093, -0.71682693],\n",
       "       [-1.84312959,  0.02159896],\n",
       "       [-0.58699933,  0.49419152],\n",
       "       [ 1.34550876,  2.38456179],\n",
       "       [ 0.95900714, -1.07127135],\n",
       "       [ 1.92526119,  0.76002484],\n",
       "       [ 0.37925471,  1.02585816],\n",
       "       [ 0.95900714,  0.78956188],\n",
       "       [ 0.28262931,  0.08067303],\n",
       "       [-0.20049771, -0.51006768],\n",
       "       [-0.29712312,  0.28743228],\n",
       "       [ 0.66913093, -1.10080839],\n",
       "       [-1.36000257, -1.24849357],\n",
       "       [-1.74650419,  0.37604338],\n",
       "       [ 0.1860039 ,  0.05113599],\n",
       "       [-1.55325338, -0.18516029],\n",
       "       [-0.20049771, -0.2737714 ],\n",
       "       [ 0.0893785 ,  0.16928413],\n",
       "       [ 0.0893785 ,  0.05113599],\n",
       "       [-0.29712312, -1.24849357],\n",
       "       [ 0.76575633, -0.30330843],\n",
       "       [-0.68362474,  0.58280263],\n",
       "       [-1.07012636,  0.78956188],\n",
       "       [-0.20049771, -0.18516029],\n",
       "       [ 0.66913093, -1.39617874],\n",
       "       [ 2.118512  , -1.04173432],\n",
       "       [-1.07012636, -0.33284547],\n",
       "       [-1.36000257, -1.10080839],\n",
       "       [-0.58699933,  1.40983962],\n",
       "       [-0.49037393, -0.83497507],\n",
       "       [-0.29712312,  0.05113599],\n",
       "       [ 1.63538497,  1.64613591],\n",
       "       [-1.26337717, -1.07127135],\n",
       "       [-0.87687555, -1.21895653],\n",
       "       [ 0.37925471,  2.35502476],\n",
       "       [-1.74650419,  0.1397471 ],\n",
       "       [ 0.76575633,  0.28743228],\n",
       "       [-0.20049771, -0.45099361],\n",
       "       [-0.00724691,  1.26215445],\n",
       "       [-0.10387231,  0.31696931],\n",
       "       [-0.58699933,  1.40983962],\n",
       "       [-0.97350095, -0.30330843],\n",
       "       [-0.68362474,  1.43937666],\n",
       "       [ 1.24888336,  1.91196923],\n",
       "       [-1.36000257, -0.42145657],\n",
       "       [-1.26337717, -1.39617874],\n",
       "       [-0.29712312,  0.16928413],\n",
       "       [-1.16675176,  1.43937666],\n",
       "       [ 0.86238174,  1.0553952 ],\n",
       "       [ 1.05563255,  0.49419152],\n",
       "       [-0.97350095,  1.58706184],\n",
       "       [-0.29712312,  0.5532656 ],\n",
       "       [ 2.02188659,  1.79382108],\n",
       "       [ 0.0893785 , -0.24423436],\n",
       "       [-0.00724691, -0.24423436],\n",
       "       [-0.29712312,  0.11021006],\n",
       "       [-0.87687555,  2.32548772],\n",
       "       [ 1.34550876,  1.32122852],\n",
       "       [-0.29712312, -0.89404914],\n",
       "       [-0.00724691, -0.56914175],\n",
       "       [-1.84312959, -1.42571578],\n",
       "       [-0.29712312, -0.65775286],\n",
       "       [-1.36000257, -1.48478985],\n",
       "       [-0.49037393, -1.13034543],\n",
       "       [ 0.95900714, -1.01219728],\n",
       "       [ 1.05563255,  0.1397471 ],\n",
       "       [-0.29712312, -0.92358618],\n",
       "       [-0.78025014,  0.28743228],\n",
       "       [-0.29712312,  1.1440063 ],\n",
       "       [ 0.47588012,  1.26215445],\n",
       "       [ 0.37925471,  0.11021006],\n",
       "       [-1.16675176, -0.775901  ],\n",
       "       [-1.36000257, -1.36664171],\n",
       "       [ 0.1860039 , -0.2737714 ],\n",
       "       [-0.78025014,  1.11446927],\n",
       "       [-1.16675176,  0.49419152],\n",
       "       [-0.87687555,  0.40558042],\n",
       "       [ 0.76575633, -1.10080839],\n",
       "       [-0.00724691,  0.31696931],\n",
       "       [ 0.0893785 ,  0.22835821],\n",
       "       [-0.10387231, -0.42145657],\n",
       "       [-0.20049771,  0.87817299],\n",
       "       [-0.97350095,  0.43511745],\n",
       "       [ 0.28262931,  0.28743228],\n",
       "       [-1.26337717,  0.61233967],\n",
       "       [-1.45662798,  0.37604338],\n",
       "       [ 2.118512  ,  0.40558042],\n",
       "       [-1.16675176, -1.60293799],\n",
       "       [-0.29712312,  2.29595069],\n",
       "       [ 0.28262931, -0.53960472],\n",
       "       [-0.29712312, -0.56914175],\n",
       "       [ 0.95900714,  2.03011737],\n",
       "       [ 0.76575633, -0.83497507]])"
      ]
     },
     "execution_count": 26,
     "metadata": {},
     "output_type": "execute_result"
    }
   ],
   "source": [
    "scaler.fit_transform(X_train)"
   ]
  },
  {
   "cell_type": "code",
   "execution_count": 27,
   "id": "2f3f6966",
   "metadata": {},
   "outputs": [],
   "source": [
    "logistic_regression=LogisticRegression(n_jobs=-1)"
   ]
  },
  {
   "cell_type": "code",
   "execution_count": 28,
   "id": "0d86bbf5",
   "metadata": {},
   "outputs": [
    {
     "data": {
      "text/html": [
       "<style>#sk-container-id-1 {color: black;background-color: white;}#sk-container-id-1 pre{padding: 0;}#sk-container-id-1 div.sk-toggleable {background-color: white;}#sk-container-id-1 label.sk-toggleable__label {cursor: pointer;display: block;width: 100%;margin-bottom: 0;padding: 0.3em;box-sizing: border-box;text-align: center;}#sk-container-id-1 label.sk-toggleable__label-arrow:before {content: \"▸\";float: left;margin-right: 0.25em;color: #696969;}#sk-container-id-1 label.sk-toggleable__label-arrow:hover:before {color: black;}#sk-container-id-1 div.sk-estimator:hover label.sk-toggleable__label-arrow:before {color: black;}#sk-container-id-1 div.sk-toggleable__content {max-height: 0;max-width: 0;overflow: hidden;text-align: left;background-color: #f0f8ff;}#sk-container-id-1 div.sk-toggleable__content pre {margin: 0.2em;color: black;border-radius: 0.25em;background-color: #f0f8ff;}#sk-container-id-1 input.sk-toggleable__control:checked~div.sk-toggleable__content {max-height: 200px;max-width: 100%;overflow: auto;}#sk-container-id-1 input.sk-toggleable__control:checked~label.sk-toggleable__label-arrow:before {content: \"▾\";}#sk-container-id-1 div.sk-estimator input.sk-toggleable__control:checked~label.sk-toggleable__label {background-color: #d4ebff;}#sk-container-id-1 div.sk-label input.sk-toggleable__control:checked~label.sk-toggleable__label {background-color: #d4ebff;}#sk-container-id-1 input.sk-hidden--visually {border: 0;clip: rect(1px 1px 1px 1px);clip: rect(1px, 1px, 1px, 1px);height: 1px;margin: -1px;overflow: hidden;padding: 0;position: absolute;width: 1px;}#sk-container-id-1 div.sk-estimator {font-family: monospace;background-color: #f0f8ff;border: 1px dotted black;border-radius: 0.25em;box-sizing: border-box;margin-bottom: 0.5em;}#sk-container-id-1 div.sk-estimator:hover {background-color: #d4ebff;}#sk-container-id-1 div.sk-parallel-item::after {content: \"\";width: 100%;border-bottom: 1px solid gray;flex-grow: 1;}#sk-container-id-1 div.sk-label:hover label.sk-toggleable__label {background-color: #d4ebff;}#sk-container-id-1 div.sk-serial::before {content: \"\";position: absolute;border-left: 1px solid gray;box-sizing: border-box;top: 0;bottom: 0;left: 50%;z-index: 0;}#sk-container-id-1 div.sk-serial {display: flex;flex-direction: column;align-items: center;background-color: white;padding-right: 0.2em;padding-left: 0.2em;position: relative;}#sk-container-id-1 div.sk-item {position: relative;z-index: 1;}#sk-container-id-1 div.sk-parallel {display: flex;align-items: stretch;justify-content: center;background-color: white;position: relative;}#sk-container-id-1 div.sk-item::before, #sk-container-id-1 div.sk-parallel-item::before {content: \"\";position: absolute;border-left: 1px solid gray;box-sizing: border-box;top: 0;bottom: 0;left: 50%;z-index: -1;}#sk-container-id-1 div.sk-parallel-item {display: flex;flex-direction: column;z-index: 1;position: relative;background-color: white;}#sk-container-id-1 div.sk-parallel-item:first-child::after {align-self: flex-end;width: 50%;}#sk-container-id-1 div.sk-parallel-item:last-child::after {align-self: flex-start;width: 50%;}#sk-container-id-1 div.sk-parallel-item:only-child::after {width: 0;}#sk-container-id-1 div.sk-dashed-wrapped {border: 1px dashed gray;margin: 0 0.4em 0.5em 0.4em;box-sizing: border-box;padding-bottom: 0.4em;background-color: white;}#sk-container-id-1 div.sk-label label {font-family: monospace;font-weight: bold;display: inline-block;line-height: 1.2em;}#sk-container-id-1 div.sk-label-container {text-align: center;}#sk-container-id-1 div.sk-container {/* jupyter's `normalize.less` sets `[hidden] { display: none; }` but bootstrap.min.css set `[hidden] { display: none !important; }` so we also need the `!important` here to be able to override the default hidden behavior on the sphinx rendered scikit-learn.org. See: https://github.com/scikit-learn/scikit-learn/issues/21755 */display: inline-block !important;position: relative;}#sk-container-id-1 div.sk-text-repr-fallback {display: none;}</style><div id=\"sk-container-id-1\" class=\"sk-top-container\"><div class=\"sk-text-repr-fallback\"><pre>LogisticRegression(n_jobs=-1)</pre><b>In a Jupyter environment, please rerun this cell to show the HTML representation or trust the notebook. <br />On GitHub, the HTML representation is unable to render, please try loading this page with nbviewer.org.</b></div><div class=\"sk-container\" hidden><div class=\"sk-item\"><div class=\"sk-estimator sk-toggleable\"><input class=\"sk-toggleable__control sk-hidden--visually\" id=\"sk-estimator-id-1\" type=\"checkbox\" checked><label for=\"sk-estimator-id-1\" class=\"sk-toggleable__label sk-toggleable__label-arrow\">LogisticRegression</label><div class=\"sk-toggleable__content\"><pre>LogisticRegression(n_jobs=-1)</pre></div></div></div></div></div>"
      ],
      "text/plain": [
       "LogisticRegression(n_jobs=-1)"
      ]
     },
     "execution_count": 28,
     "metadata": {},
     "output_type": "execute_result"
    }
   ],
   "source": [
    "logistic_regression.fit(X_train,y_train)"
   ]
  },
  {
   "cell_type": "code",
   "execution_count": 29,
   "id": "e3213a7f",
   "metadata": {},
   "outputs": [],
   "source": [
    "X_test=scaler.transform(X_test)"
   ]
  },
  {
   "cell_type": "code",
   "execution_count": 30,
   "id": "1ccf9661",
   "metadata": {},
   "outputs": [
    {
     "name": "stderr",
     "output_type": "stream",
     "text": [
      "/Users/sauravlamichhane/opt/anaconda3/lib/python3.9/site-packages/sklearn/base.py:420: UserWarning: X does not have valid feature names, but LogisticRegression was fitted with feature names\n",
      "  warnings.warn(\n"
     ]
    }
   ],
   "source": [
    "y_pred=logistic_regression.predict(X_test)"
   ]
  },
  {
   "cell_type": "code",
   "execution_count": 31,
   "id": "1a1c2462",
   "metadata": {},
   "outputs": [
    {
     "name": "stderr",
     "output_type": "stream",
     "text": [
      "/Users/sauravlamichhane/opt/anaconda3/lib/python3.9/site-packages/sklearn/base.py:420: UserWarning: X does not have valid feature names, but LogisticRegression was fitted with feature names\n",
      "  warnings.warn(\n"
     ]
    }
   ],
   "source": [
    "y_pred_proba=logistic_regression.predict_proba(X_test)"
   ]
  },
  {
   "cell_type": "code",
   "execution_count": 32,
   "id": "3f01fc3a",
   "metadata": {},
   "outputs": [
    {
     "data": {
      "text/plain": [
       "array([1, 0, 1, 1, 0])"
      ]
     },
     "execution_count": 32,
     "metadata": {},
     "output_type": "execute_result"
    }
   ],
   "source": [
    "y_pred[:5]"
   ]
  },
  {
   "cell_type": "code",
   "execution_count": 33,
   "id": "fe02cb6e",
   "metadata": {},
   "outputs": [
    {
     "data": {
      "text/plain": [
       "array([[0.49999904, 0.50000096],\n",
       "       [0.50000017, 0.49999983],\n",
       "       [0.49999899, 0.50000101],\n",
       "       [0.49999919, 0.50000081],\n",
       "       [0.50000134, 0.49999866]])"
      ]
     },
     "execution_count": 33,
     "metadata": {},
     "output_type": "execute_result"
    }
   ],
   "source": [
    "y_pred_proba[:5]"
   ]
  },
  {
   "cell_type": "code",
   "execution_count": 34,
   "id": "eb3234e5",
   "metadata": {},
   "outputs": [
    {
     "data": {
      "text/plain": [
       "(array([0, 1]), array([257, 143]))"
      ]
     },
     "execution_count": 34,
     "metadata": {},
     "output_type": "execute_result"
    }
   ],
   "source": [
    "np.unique(y, return_counts=True)"
   ]
  },
  {
   "cell_type": "code",
   "execution_count": 35,
   "id": "7382ee3c",
   "metadata": {},
   "outputs": [],
   "source": [
    "from sklearn.metrics import confusion_matrix, classification_report,accuracy_score"
   ]
  },
  {
   "cell_type": "code",
   "execution_count": 36,
   "id": "f5749003",
   "metadata": {},
   "outputs": [
    {
     "data": {
      "text/plain": [
       "0.35"
      ]
     },
     "execution_count": 36,
     "metadata": {},
     "output_type": "execute_result"
    }
   ],
   "source": [
    "accuracy_score(y_test,y_pred)"
   ]
  },
  {
   "cell_type": "code",
   "execution_count": 37,
   "id": "8e104b51",
   "metadata": {},
   "outputs": [
    {
     "name": "stdout",
     "output_type": "stream",
     "text": [
      "              precision    recall  f1-score   support\n",
      "\n",
      "           0       0.49      0.37      0.42        51\n",
      "           1       0.22      0.31      0.26        29\n",
      "\n",
      "    accuracy                           0.35        80\n",
      "   macro avg       0.35      0.34      0.34        80\n",
      "weighted avg       0.39      0.35      0.36        80\n",
      "\n"
     ]
    }
   ],
   "source": [
    "print(classification_report(y_test,y_pred))"
   ]
  },
  {
   "cell_type": "code",
   "execution_count": 38,
   "id": "81906ee7",
   "metadata": {},
   "outputs": [
    {
     "data": {
      "image/png": "[encoded data removed]",
      "text/plain": [
       "<Figure size 432x288 with 2 Axes>"
      ]
     },
     "metadata": {
      "needs_background": "light"
     },
     "output_type": "display_data"
    }
   ],
   "source": [
    "sns.heatmap(confusion_matrix(y_test,y_pred), annot=True)\n",
    "plt.xlabel('Actual Values')\n",
    "plt.ylabel('Predicted Values')\n",
    "plt.show()"
   ]
  },
  {
   "cell_type": "markdown",
   "id": "b49544d1",
   "metadata": {},
   "source": [
    "# New Dataset"
   ]
  },
  {
   "cell_type": "code",
   "execution_count": 39,
   "id": "1c8556f4",
   "metadata": {},
   "outputs": [],
   "source": [
    "data = pd.read_csv('../dataset for Python/dataset_bank.csv')"
   ]
  },
  {
   "cell_type": "code",
   "execution_count": 40,
   "id": "3a9cda63",
   "metadata": {},
   "outputs": [
    {
     "data": {
      "text/html": [
       "<div>\n",
       "<style scoped>\n",
       "    .dataframe tbody tr th:only-of-type {\n",
       "        vertical-align: middle;\n",
       "    }\n",
       "\n",
       "    .dataframe tbody tr th {\n",
       "        vertical-align: top;\n",
       "    }\n",
       "\n",
       "    .dataframe thead th {\n",
       "        text-align: right;\n",
       "    }\n",
       "</style>\n",
       "<table border=\"1\" class=\"dataframe\">\n",
       "  <thead>\n",
       "    <tr style=\"text-align: right;\">\n",
       "      <th></th>\n",
       "      <th>RowNumber</th>\n",
       "      <th>CustomerId</th>\n",
       "      <th>Surname</th>\n",
       "      <th>CreditScore</th>\n",
       "      <th>Geography</th>\n",
       "      <th>Gender</th>\n",
       "      <th>Age</th>\n",
       "      <th>Tenure</th>\n",
       "      <th>Balance</th>\n",
       "      <th>NumOfProducts</th>\n",
       "      <th>HasCrCard</th>\n",
       "      <th>IsActiveMember</th>\n",
       "      <th>EstimatedSalary</th>\n",
       "      <th>Exited</th>\n",
       "    </tr>\n",
       "  </thead>\n",
       "  <tbody>\n",
       "    <tr>\n",
       "      <th>0</th>\n",
       "      <td>1</td>\n",
       "      <td>15634602</td>\n",
       "      <td>Hargrave</td>\n",
       "      <td>619</td>\n",
       "      <td>France</td>\n",
       "      <td>Female</td>\n",
       "      <td>42</td>\n",
       "      <td>2</td>\n",
       "      <td>0.00</td>\n",
       "      <td>1</td>\n",
       "      <td>1</td>\n",
       "      <td>1</td>\n",
       "      <td>101348.88</td>\n",
       "      <td>1</td>\n",
       "    </tr>\n",
       "    <tr>\n",
       "      <th>1</th>\n",
       "      <td>2</td>\n",
       "      <td>15647311</td>\n",
       "      <td>Hill</td>\n",
       "      <td>608</td>\n",
       "      <td>Spain</td>\n",
       "      <td>Female</td>\n",
       "      <td>41</td>\n",
       "      <td>1</td>\n",
       "      <td>83807.86</td>\n",
       "      <td>1</td>\n",
       "      <td>0</td>\n",
       "      <td>1</td>\n",
       "      <td>112542.58</td>\n",
       "      <td>0</td>\n",
       "    </tr>\n",
       "    <tr>\n",
       "      <th>2</th>\n",
       "      <td>3</td>\n",
       "      <td>15619304</td>\n",
       "      <td>Onio</td>\n",
       "      <td>502</td>\n",
       "      <td>France</td>\n",
       "      <td>Female</td>\n",
       "      <td>42</td>\n",
       "      <td>8</td>\n",
       "      <td>159660.80</td>\n",
       "      <td>3</td>\n",
       "      <td>1</td>\n",
       "      <td>0</td>\n",
       "      <td>113931.57</td>\n",
       "      <td>1</td>\n",
       "    </tr>\n",
       "    <tr>\n",
       "      <th>3</th>\n",
       "      <td>4</td>\n",
       "      <td>15701354</td>\n",
       "      <td>Boni</td>\n",
       "      <td>699</td>\n",
       "      <td>France</td>\n",
       "      <td>Female</td>\n",
       "      <td>39</td>\n",
       "      <td>1</td>\n",
       "      <td>0.00</td>\n",
       "      <td>2</td>\n",
       "      <td>0</td>\n",
       "      <td>0</td>\n",
       "      <td>93826.63</td>\n",
       "      <td>0</td>\n",
       "    </tr>\n",
       "    <tr>\n",
       "      <th>4</th>\n",
       "      <td>5</td>\n",
       "      <td>15737888</td>\n",
       "      <td>Mitchell</td>\n",
       "      <td>850</td>\n",
       "      <td>Spain</td>\n",
       "      <td>Female</td>\n",
       "      <td>43</td>\n",
       "      <td>2</td>\n",
       "      <td>125510.82</td>\n",
       "      <td>1</td>\n",
       "      <td>1</td>\n",
       "      <td>1</td>\n",
       "      <td>79084.10</td>\n",
       "      <td>0</td>\n",
       "    </tr>\n",
       "    <tr>\n",
       "      <th>...</th>\n",
       "      <td>...</td>\n",
       "      <td>...</td>\n",
       "      <td>...</td>\n",
       "      <td>...</td>\n",
       "      <td>...</td>\n",
       "      <td>...</td>\n",
       "      <td>...</td>\n",
       "      <td>...</td>\n",
       "      <td>...</td>\n",
       "      <td>...</td>\n",
       "      <td>...</td>\n",
       "      <td>...</td>\n",
       "      <td>...</td>\n",
       "      <td>...</td>\n",
       "    </tr>\n",
       "    <tr>\n",
       "      <th>9995</th>\n",
       "      <td>9996</td>\n",
       "      <td>15606229</td>\n",
       "      <td>Obijiaku</td>\n",
       "      <td>771</td>\n",
       "      <td>France</td>\n",
       "      <td>Male</td>\n",
       "      <td>39</td>\n",
       "      <td>5</td>\n",
       "      <td>0.00</td>\n",
       "      <td>2</td>\n",
       "      <td>1</td>\n",
       "      <td>0</td>\n",
       "      <td>96270.64</td>\n",
       "      <td>0</td>\n",
       "    </tr>\n",
       "    <tr>\n",
       "      <th>9996</th>\n",
       "      <td>9997</td>\n",
       "      <td>15569892</td>\n",
       "      <td>Johnstone</td>\n",
       "      <td>516</td>\n",
       "      <td>France</td>\n",
       "      <td>Male</td>\n",
       "      <td>35</td>\n",
       "      <td>10</td>\n",
       "      <td>57369.61</td>\n",
       "      <td>1</td>\n",
       "      <td>1</td>\n",
       "      <td>1</td>\n",
       "      <td>101699.77</td>\n",
       "      <td>0</td>\n",
       "    </tr>\n",
       "    <tr>\n",
       "      <th>9997</th>\n",
       "      <td>9998</td>\n",
       "      <td>15584532</td>\n",
       "      <td>Liu</td>\n",
       "      <td>709</td>\n",
       "      <td>France</td>\n",
       "      <td>Female</td>\n",
       "      <td>36</td>\n",
       "      <td>7</td>\n",
       "      <td>0.00</td>\n",
       "      <td>1</td>\n",
       "      <td>0</td>\n",
       "      <td>1</td>\n",
       "      <td>42085.58</td>\n",
       "      <td>1</td>\n",
       "    </tr>\n",
       "    <tr>\n",
       "      <th>9998</th>\n",
       "      <td>9999</td>\n",
       "      <td>15682355</td>\n",
       "      <td>Sabbatini</td>\n",
       "      <td>772</td>\n",
       "      <td>Germany</td>\n",
       "      <td>Male</td>\n",
       "      <td>42</td>\n",
       "      <td>3</td>\n",
       "      <td>75075.31</td>\n",
       "      <td>2</td>\n",
       "      <td>1</td>\n",
       "      <td>0</td>\n",
       "      <td>92888.52</td>\n",
       "      <td>1</td>\n",
       "    </tr>\n",
       "    <tr>\n",
       "      <th>9999</th>\n",
       "      <td>10000</td>\n",
       "      <td>15628319</td>\n",
       "      <td>Walker</td>\n",
       "      <td>792</td>\n",
       "      <td>France</td>\n",
       "      <td>Female</td>\n",
       "      <td>28</td>\n",
       "      <td>4</td>\n",
       "      <td>130142.79</td>\n",
       "      <td>1</td>\n",
       "      <td>1</td>\n",
       "      <td>0</td>\n",
       "      <td>38190.78</td>\n",
       "      <td>0</td>\n",
       "    </tr>\n",
       "  </tbody>\n",
       "</table>\n",
       "<p>10000 rows × 14 columns</p>\n",
       "</div>"
      ],
      "text/plain": [
       "      RowNumber  CustomerId    Surname  CreditScore Geography  Gender  Age  \\\n",
       "0             1    15634602   Hargrave          619    France  Female   42   \n",
       "1             2    15647311       Hill          608     Spain  Female   41   \n",
       "2             3    15619304       Onio          502    France  Female   42   \n",
       "3             4    15701354       Boni          699    France  Female   39   \n",
       "4             5    15737888   Mitchell          850     Spain  Female   43   \n",
       "...         ...         ...        ...          ...       ...     ...  ...   \n",
       "9995       9996    15606229   Obijiaku          771    France    Male   39   \n",
       "9996       9997    15569892  Johnstone          516    France    Male   35   \n",
       "9997       9998    15584532        Liu          709    France  Female   36   \n",
       "9998       9999    15682355  Sabbatini          772   Germany    Male   42   \n",
       "9999      10000    15628319     Walker          792    France  Female   28   \n",
       "\n",
       "      Tenure    Balance  NumOfProducts  HasCrCard  IsActiveMember  \\\n",
       "0          2       0.00              1          1               1   \n",
       "1          1   83807.86              1          0               1   \n",
       "2          8  159660.80              3          1               0   \n",
       "3          1       0.00              2          0               0   \n",
       "4          2  125510.82              1          1               1   \n",
       "...      ...        ...            ...        ...             ...   \n",
       "9995       5       0.00              2          1               0   \n",
       "9996      10   57369.61              1          1               1   \n",
       "9997       7       0.00              1          0               1   \n",
       "9998       3   75075.31              2          1               0   \n",
       "9999       4  130142.79              1          1               0   \n",
       "\n",
       "      EstimatedSalary  Exited  \n",
       "0           101348.88       1  \n",
       "1           112542.58       0  \n",
       "2           113931.57       1  \n",
       "3            93826.63       0  \n",
       "4            79084.10       0  \n",
       "...               ...     ...  \n",
       "9995         96270.64       0  \n",
       "9996        101699.77       0  \n",
       "9997         42085.58       1  \n",
       "9998         92888.52       1  \n",
       "9999         38190.78       0  \n",
       "\n",
       "[10000 rows x 14 columns]"
      ]
     },
     "execution_count": 40,
     "metadata": {},
     "output_type": "execute_result"
    }
   ],
   "source": [
    "data"
   ]
  },
  {
   "cell_type": "code",
   "execution_count": 41,
   "id": "a249a064",
   "metadata": {},
   "outputs": [
    {
     "data": {
      "text/html": [
       "<div>\n",
       "<style scoped>\n",
       "    .dataframe tbody tr th:only-of-type {\n",
       "        vertical-align: middle;\n",
       "    }\n",
       "\n",
       "    .dataframe tbody tr th {\n",
       "        vertical-align: top;\n",
       "    }\n",
       "\n",
       "    .dataframe thead th {\n",
       "        text-align: right;\n",
       "    }\n",
       "</style>\n",
       "<table border=\"1\" class=\"dataframe\">\n",
       "  <thead>\n",
       "    <tr style=\"text-align: right;\">\n",
       "      <th></th>\n",
       "      <th>RowNumber</th>\n",
       "      <th>CustomerId</th>\n",
       "      <th>Surname</th>\n",
       "      <th>CreditScore</th>\n",
       "      <th>Geography</th>\n",
       "      <th>Gender</th>\n",
       "      <th>Age</th>\n",
       "      <th>Tenure</th>\n",
       "      <th>Balance</th>\n",
       "      <th>NumOfProducts</th>\n",
       "      <th>HasCrCard</th>\n",
       "      <th>IsActiveMember</th>\n",
       "      <th>EstimatedSalary</th>\n",
       "      <th>Exited</th>\n",
       "    </tr>\n",
       "  </thead>\n",
       "  <tbody>\n",
       "    <tr>\n",
       "      <th>0</th>\n",
       "      <td>1</td>\n",
       "      <td>15634602</td>\n",
       "      <td>Hargrave</td>\n",
       "      <td>619</td>\n",
       "      <td>France</td>\n",
       "      <td>Female</td>\n",
       "      <td>42</td>\n",
       "      <td>2</td>\n",
       "      <td>0.00</td>\n",
       "      <td>1</td>\n",
       "      <td>1</td>\n",
       "      <td>1</td>\n",
       "      <td>101348.88</td>\n",
       "      <td>1</td>\n",
       "    </tr>\n",
       "    <tr>\n",
       "      <th>1</th>\n",
       "      <td>2</td>\n",
       "      <td>15647311</td>\n",
       "      <td>Hill</td>\n",
       "      <td>608</td>\n",
       "      <td>Spain</td>\n",
       "      <td>Female</td>\n",
       "      <td>41</td>\n",
       "      <td>1</td>\n",
       "      <td>83807.86</td>\n",
       "      <td>1</td>\n",
       "      <td>0</td>\n",
       "      <td>1</td>\n",
       "      <td>112542.58</td>\n",
       "      <td>0</td>\n",
       "    </tr>\n",
       "    <tr>\n",
       "      <th>2</th>\n",
       "      <td>3</td>\n",
       "      <td>15619304</td>\n",
       "      <td>Onio</td>\n",
       "      <td>502</td>\n",
       "      <td>France</td>\n",
       "      <td>Female</td>\n",
       "      <td>42</td>\n",
       "      <td>8</td>\n",
       "      <td>159660.80</td>\n",
       "      <td>3</td>\n",
       "      <td>1</td>\n",
       "      <td>0</td>\n",
       "      <td>113931.57</td>\n",
       "      <td>1</td>\n",
       "    </tr>\n",
       "    <tr>\n",
       "      <th>3</th>\n",
       "      <td>4</td>\n",
       "      <td>15701354</td>\n",
       "      <td>Boni</td>\n",
       "      <td>699</td>\n",
       "      <td>France</td>\n",
       "      <td>Female</td>\n",
       "      <td>39</td>\n",
       "      <td>1</td>\n",
       "      <td>0.00</td>\n",
       "      <td>2</td>\n",
       "      <td>0</td>\n",
       "      <td>0</td>\n",
       "      <td>93826.63</td>\n",
       "      <td>0</td>\n",
       "    </tr>\n",
       "    <tr>\n",
       "      <th>4</th>\n",
       "      <td>5</td>\n",
       "      <td>15737888</td>\n",
       "      <td>Mitchell</td>\n",
       "      <td>850</td>\n",
       "      <td>Spain</td>\n",
       "      <td>Female</td>\n",
       "      <td>43</td>\n",
       "      <td>2</td>\n",
       "      <td>125510.82</td>\n",
       "      <td>1</td>\n",
       "      <td>1</td>\n",
       "      <td>1</td>\n",
       "      <td>79084.10</td>\n",
       "      <td>0</td>\n",
       "    </tr>\n",
       "  </tbody>\n",
       "</table>\n",
       "</div>"
      ],
      "text/plain": [
       "   RowNumber  CustomerId   Surname  CreditScore Geography  Gender  Age  \\\n",
       "0          1    15634602  Hargrave          619    France  Female   42   \n",
       "1          2    15647311      Hill          608     Spain  Female   41   \n",
       "2          3    15619304      Onio          502    France  Female   42   \n",
       "3          4    15701354      Boni          699    France  Female   39   \n",
       "4          5    15737888  Mitchell          850     Spain  Female   43   \n",
       "\n",
       "   Tenure    Balance  NumOfProducts  HasCrCard  IsActiveMember  \\\n",
       "0       2       0.00              1          1               1   \n",
       "1       1   83807.86              1          0               1   \n",
       "2       8  159660.80              3          1               0   \n",
       "3       1       0.00              2          0               0   \n",
       "4       2  125510.82              1          1               1   \n",
       "\n",
       "   EstimatedSalary  Exited  \n",
       "0        101348.88       1  \n",
       "1        112542.58       0  \n",
       "2        113931.57       1  \n",
       "3         93826.63       0  \n",
       "4         79084.10       0  "
      ]
     },
     "execution_count": 41,
     "metadata": {},
     "output_type": "execute_result"
    }
   ],
   "source": [
    "data.head()"
   ]
  },
  {
   "cell_type": "code",
   "execution_count": 42,
   "id": "0416f961",
   "metadata": {},
   "outputs": [],
   "source": [
    "col_to_drop=['RowNumber','CustomerId','Surname']\n",
    "data.drop(col_to_drop,axis=1,inplace=True)"
   ]
  },
  {
   "cell_type": "code",
   "execution_count": 43,
   "id": "b4161790",
   "metadata": {},
   "outputs": [
    {
     "data": {
      "text/html": [
       "<div>\n",
       "<style scoped>\n",
       "    .dataframe tbody tr th:only-of-type {\n",
       "        vertical-align: middle;\n",
       "    }\n",
       "\n",
       "    .dataframe tbody tr th {\n",
       "        vertical-align: top;\n",
       "    }\n",
       "\n",
       "    .dataframe thead th {\n",
       "        text-align: right;\n",
       "    }\n",
       "</style>\n",
       "<table border=\"1\" class=\"dataframe\">\n",
       "  <thead>\n",
       "    <tr style=\"text-align: right;\">\n",
       "      <th></th>\n",
       "      <th>CreditScore</th>\n",
       "      <th>Age</th>\n",
       "      <th>Tenure</th>\n",
       "      <th>Balance</th>\n",
       "      <th>NumOfProducts</th>\n",
       "      <th>HasCrCard</th>\n",
       "      <th>IsActiveMember</th>\n",
       "      <th>EstimatedSalary</th>\n",
       "      <th>Exited</th>\n",
       "    </tr>\n",
       "  </thead>\n",
       "  <tbody>\n",
       "    <tr>\n",
       "      <th>CreditScore</th>\n",
       "      <td>1.000000</td>\n",
       "      <td>-0.003965</td>\n",
       "      <td>0.000842</td>\n",
       "      <td>0.006268</td>\n",
       "      <td>0.012238</td>\n",
       "      <td>-0.005458</td>\n",
       "      <td>0.025651</td>\n",
       "      <td>-0.001384</td>\n",
       "      <td>-0.027094</td>\n",
       "    </tr>\n",
       "    <tr>\n",
       "      <th>Age</th>\n",
       "      <td>-0.003965</td>\n",
       "      <td>1.000000</td>\n",
       "      <td>-0.009997</td>\n",
       "      <td>0.028308</td>\n",
       "      <td>-0.030680</td>\n",
       "      <td>-0.011721</td>\n",
       "      <td>0.085472</td>\n",
       "      <td>-0.007201</td>\n",
       "      <td>0.285323</td>\n",
       "    </tr>\n",
       "    <tr>\n",
       "      <th>Tenure</th>\n",
       "      <td>0.000842</td>\n",
       "      <td>-0.009997</td>\n",
       "      <td>1.000000</td>\n",
       "      <td>-0.012254</td>\n",
       "      <td>0.013444</td>\n",
       "      <td>0.022583</td>\n",
       "      <td>-0.028362</td>\n",
       "      <td>0.007784</td>\n",
       "      <td>-0.014001</td>\n",
       "    </tr>\n",
       "    <tr>\n",
       "      <th>Balance</th>\n",
       "      <td>0.006268</td>\n",
       "      <td>0.028308</td>\n",
       "      <td>-0.012254</td>\n",
       "      <td>1.000000</td>\n",
       "      <td>-0.304180</td>\n",
       "      <td>-0.014858</td>\n",
       "      <td>-0.010084</td>\n",
       "      <td>0.012797</td>\n",
       "      <td>0.118533</td>\n",
       "    </tr>\n",
       "    <tr>\n",
       "      <th>NumOfProducts</th>\n",
       "      <td>0.012238</td>\n",
       "      <td>-0.030680</td>\n",
       "      <td>0.013444</td>\n",
       "      <td>-0.304180</td>\n",
       "      <td>1.000000</td>\n",
       "      <td>0.003183</td>\n",
       "      <td>0.009612</td>\n",
       "      <td>0.014204</td>\n",
       "      <td>-0.047820</td>\n",
       "    </tr>\n",
       "    <tr>\n",
       "      <th>HasCrCard</th>\n",
       "      <td>-0.005458</td>\n",
       "      <td>-0.011721</td>\n",
       "      <td>0.022583</td>\n",
       "      <td>-0.014858</td>\n",
       "      <td>0.003183</td>\n",
       "      <td>1.000000</td>\n",
       "      <td>-0.011866</td>\n",
       "      <td>-0.009933</td>\n",
       "      <td>-0.007138</td>\n",
       "    </tr>\n",
       "    <tr>\n",
       "      <th>IsActiveMember</th>\n",
       "      <td>0.025651</td>\n",
       "      <td>0.085472</td>\n",
       "      <td>-0.028362</td>\n",
       "      <td>-0.010084</td>\n",
       "      <td>0.009612</td>\n",
       "      <td>-0.011866</td>\n",
       "      <td>1.000000</td>\n",
       "      <td>-0.011421</td>\n",
       "      <td>-0.156128</td>\n",
       "    </tr>\n",
       "    <tr>\n",
       "      <th>EstimatedSalary</th>\n",
       "      <td>-0.001384</td>\n",
       "      <td>-0.007201</td>\n",
       "      <td>0.007784</td>\n",
       "      <td>0.012797</td>\n",
       "      <td>0.014204</td>\n",
       "      <td>-0.009933</td>\n",
       "      <td>-0.011421</td>\n",
       "      <td>1.000000</td>\n",
       "      <td>0.012097</td>\n",
       "    </tr>\n",
       "    <tr>\n",
       "      <th>Exited</th>\n",
       "      <td>-0.027094</td>\n",
       "      <td>0.285323</td>\n",
       "      <td>-0.014001</td>\n",
       "      <td>0.118533</td>\n",
       "      <td>-0.047820</td>\n",
       "      <td>-0.007138</td>\n",
       "      <td>-0.156128</td>\n",
       "      <td>0.012097</td>\n",
       "      <td>1.000000</td>\n",
       "    </tr>\n",
       "  </tbody>\n",
       "</table>\n",
       "</div>"
      ],
      "text/plain": [
       "                 CreditScore       Age    Tenure   Balance  NumOfProducts  \\\n",
       "CreditScore         1.000000 -0.003965  0.000842  0.006268       0.012238   \n",
       "Age                -0.003965  1.000000 -0.009997  0.028308      -0.030680   \n",
       "Tenure              0.000842 -0.009997  1.000000 -0.012254       0.013444   \n",
       "Balance             0.006268  0.028308 -0.012254  1.000000      -0.304180   \n",
       "NumOfProducts       0.012238 -0.030680  0.013444 -0.304180       1.000000   \n",
       "HasCrCard          -0.005458 -0.011721  0.022583 -0.014858       0.003183   \n",
       "IsActiveMember      0.025651  0.085472 -0.028362 -0.010084       0.009612   \n",
       "EstimatedSalary    -0.001384 -0.007201  0.007784  0.012797       0.014204   \n",
       "Exited             -0.027094  0.285323 -0.014001  0.118533      -0.047820   \n",
       "\n",
       "                 HasCrCard  IsActiveMember  EstimatedSalary    Exited  \n",
       "CreditScore      -0.005458        0.025651        -0.001384 -0.027094  \n",
       "Age              -0.011721        0.085472        -0.007201  0.285323  \n",
       "Tenure            0.022583       -0.028362         0.007784 -0.014001  \n",
       "Balance          -0.014858       -0.010084         0.012797  0.118533  \n",
       "NumOfProducts     0.003183        0.009612         0.014204 -0.047820  \n",
       "HasCrCard         1.000000       -0.011866        -0.009933 -0.007138  \n",
       "IsActiveMember   -0.011866        1.000000        -0.011421 -0.156128  \n",
       "EstimatedSalary  -0.009933       -0.011421         1.000000  0.012097  \n",
       "Exited           -0.007138       -0.156128         0.012097  1.000000  "
      ]
     },
     "execution_count": 43,
     "metadata": {},
     "output_type": "execute_result"
    }
   ],
   "source": [
    "data.corr()"
   ]
  },
  {
   "cell_type": "code",
   "execution_count": null,
   "id": "65d98325",
   "metadata": {},
   "outputs": [],
   "source": [
    "sns.pairplot(data,hue='Exited')\n",
    "plt.show()"
   ]
  },
  {
   "cell_type": "code",
   "execution_count": null,
   "id": "1d68b65d",
   "metadata": {},
   "outputs": [],
   "source": []
  }
 ],
 "metadata": {
  "kernelspec": {
   "display_name": "Python 3 (ipykernel)",
   "language": "python",
   "name": "python3"
  },
  "language_info": {
   "codemirror_mode": {
    "name": "ipython",
    "version": 3
   },
   "file_extension": ".py",
   "mimetype": "text/x-python",
   "name": "python",
   "nbconvert_exporter": "python",
   "pygments_lexer": "ipython3",
   "version": "3.9.7"
  }
 },
 "nbformat": 4,
 "nbformat_minor": 5
}
