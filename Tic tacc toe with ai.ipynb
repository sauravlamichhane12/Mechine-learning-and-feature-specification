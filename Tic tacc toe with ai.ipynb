{
 "cells": [
  {
   "cell_type": "markdown",
   "id": "31063701",
   "metadata": {},
   "source": [
    "# Tic tac toe"
   ]
  },
  {
   "cell_type": "code",
   "execution_count": 1,
   "id": "5992822f",
   "metadata": {},
   "outputs": [],
   "source": [
    "import random\n",
    "class TictacToe:\n",
    "    def __init__(self,player1,player2):\n",
    "        self.player_1 = player1\n",
    "        self.player_2 = player2\n",
    "        self.reset()\n",
    "    \n",
    "    def reset(self, ):\n",
    "        self.board = [\" \"] * 9 #9 blank place in a list formate\n",
    "        self.player_1_turn = random.choice([True,False]) #suru ma jun player ley pani palo pauna sak6 so randomly jasko palo ni auna sak6\n",
    "        \n",
    "    def check_full(self, ):\n",
    "        emptys = [x for x in self.board if x == ' '] # board ko sabai box ma ja input x if the box is empty\n",
    "        if len(emptys) == 0:\n",
    "            return True\n",
    "        return False\n",
    "    \n",
    "    def print_board(self):\n",
    "        b = self.board\n",
    "        #board design\n",
    "        board = f\"\"\"\n",
    "        {b[0]} | {b[1]} | {b[2]}\n",
    "        ---------\n",
    "        {b[3]} | {b[4]} | {b[5]}\n",
    "        ---------\n",
    "        {b[6]} | {b[7]} | {b[8]}\n",
    "        \"\"\"\n",
    "        print(board)\n",
    "        \n",
    "    def check_winner(self,char):\n",
    "        b = self.board\n",
    "        winner = False\n",
    "        #lookup table banauna lako\n",
    "        conditions = [\n",
    "            (0,1,2),\n",
    "            (3,4,5),\n",
    "            (6,7,8),\n",
    "            (0,3,6),\n",
    "            (1,4,7),\n",
    "            (2,5,8),\n",
    "            (0,4,8),\n",
    "            (2,4,6)\n",
    "        ]\n",
    "        for each_condition in conditions:\n",
    "            i1,i2,i3 = each_condition\n",
    "            if char == b[i1] == b[i2] == b[i3]:\n",
    "                winner = True\n",
    "                break\n",
    "        return winner\n",
    "    def play(self, ):\n",
    "        self.player_1.new_game()\n",
    "        self.player_2.new_game()\n",
    "        self.reset()\n",
    "        \n",
    "        while True:\n",
    "            if self.player_1_turn:\n",
    "                player = self.player_1\n",
    "                other_player =self.player_2\n",
    "            else:\n",
    "                player = self.player_2\n",
    "                other_player =self.player_2\n",
    "            \n",
    "            #Ask for move\n",
    "            if player.type =='human':\n",
    "                print(f\"{player.name}'s Turn\")\n",
    "                self.print_board()\n",
    "            move = player.make_move()\n",
    "            \n",
    "            #check validity\n",
    "            if move <0 or move > 8:\n",
    "                print('Invalid Move')\n",
    "                player.reward(-0.25,self.board)\n",
    "                continue\n",
    "            if self.board[move] != ' ':\n",
    "                print('Invalid Move')\n",
    "                continue\n",
    "                \n",
    "            #put char\n",
    "            self.board[move] = player.char\n",
    "            \n",
    "            #check winner\n",
    "            win = self.check_winner(player.char)\n",
    "            if win:\n",
    "                player.winner()\n",
    "                player.reward(5,self.board)\n",
    "                other_player.reward(-5,self.board)\n",
    "                self.print_board()\n",
    "                break\n",
    "                \n",
    "            #check full or Draw vako hoki haina herna lako\n",
    "            full = self.check_full()\n",
    "            if full:\n",
    "                print('Game Ended as Draw')\n",
    "                player.reward('Orange Ball')\n",
    "                break\n",
    "            player.reward(0.25,self.board)\n",
    "            #swapping the turn\n",
    "            self.player_1_turn = not self.player_1_turn\n",
    "            "
   ]
  },
  {
   "cell_type": "code",
   "execution_count": 2,
   "id": "16b26e08",
   "metadata": {},
   "outputs": [],
   "source": [
    "#player ko class\n",
    "class Player:\n",
    "    def __init__(self, name,char,type = 'human'):\n",
    "        self.name = name\n",
    "        self.char = char\n",
    "        self.type = type\n",
    "\n",
    "    def make_move(self):#user bata input liney lai \n",
    "        ans = input('Enter your move: ')\n",
    "        return int(ans)\n",
    "    \n",
    "    def  new_game(self):\n",
    "        print(f'{self.name} in {self.char}')\n",
    "        \n",
    "    def winner(self):\n",
    "        print(f'{self.name} is winner')\n",
    "        \n",
    "    def reward(self,reward_value):\n",
    "        print(f'{self.name} gets reward of {reward_value}')\n",
    "    def available_moves(self,board):\n",
    "        return [x for x in range(9) if board[x]=='']"
   ]
  },
  {
   "cell_type": "code",
   "execution_count": 3,
   "id": "97fc0de5",
   "metadata": {},
   "outputs": [],
   "source": [
    "p1 = Player('Hari Bahadur', 'X')\n",
    "p2 = Player('Timila', 'O')"
   ]
  },
  {
   "cell_type": "code",
   "execution_count": 4,
   "id": "74daca13",
   "metadata": {},
   "outputs": [
    {
     "name": "stdout",
     "output_type": "stream",
     "text": [
      "Hari Bahadur gets reward of 10\n"
     ]
    }
   ],
   "source": [
    "#unit testing\n",
    "p1.reward(10)"
   ]
  },
  {
   "cell_type": "code",
   "execution_count": 5,
   "id": "7149f640",
   "metadata": {},
   "outputs": [
    {
     "name": "stdout",
     "output_type": "stream",
     "text": [
      "Timila is winner\n"
     ]
    }
   ],
   "source": [
    "#unit testing\n",
    "p2.winner()"
   ]
  },
  {
   "cell_type": "code",
   "execution_count": 6,
   "id": "b6345761",
   "metadata": {},
   "outputs": [
    {
     "name": "stdout",
     "output_type": "stream",
     "text": [
      "Timila in O\n"
     ]
    }
   ],
   "source": [
    "#unit testing\n",
    "p2.new_game()"
   ]
  },
  {
   "cell_type": "code",
   "execution_count": 7,
   "id": "04b10fd4",
   "metadata": {},
   "outputs": [
    {
     "name": "stdout",
     "output_type": "stream",
     "text": [
      "Enter your move: 5\n"
     ]
    },
    {
     "data": {
      "text/plain": [
       "5"
      ]
     },
     "execution_count": 7,
     "metadata": {},
     "output_type": "execute_result"
    }
   ],
   "source": [
    "p2.make_move()"
   ]
  },
  {
   "cell_type": "code",
   "execution_count": 8,
   "id": "5a0df986",
   "metadata": {},
   "outputs": [],
   "source": [
    "game =TictacToe(p1,p2)"
   ]
  },
  {
   "cell_type": "code",
   "execution_count": 9,
   "id": "b12937c5",
   "metadata": {},
   "outputs": [
    {
     "name": "stdout",
     "output_type": "stream",
     "text": [
      "\n",
      "          |   |  \n",
      "        ---------\n",
      "          |   |  \n",
      "        ---------\n",
      "          |   |  \n",
      "        \n"
     ]
    }
   ],
   "source": [
    "#user testing\n",
    "game.print_board()"
   ]
  },
  {
   "cell_type": "code",
   "execution_count": 10,
   "id": "3e9f848b",
   "metadata": {},
   "outputs": [
    {
     "data": {
      "text/plain": [
       "False"
      ]
     },
     "execution_count": 10,
     "metadata": {},
     "output_type": "execute_result"
    }
   ],
   "source": [
    "game.check_full()"
   ]
  },
  {
   "cell_type": "code",
   "execution_count": 11,
   "id": "2de84c80",
   "metadata": {},
   "outputs": [
    {
     "name": "stdout",
     "output_type": "stream",
     "text": [
      "Hari Bahadur in X\n",
      "Timila in O\n",
      "Hari Bahadur's Turn\n",
      "\n",
      "          |   |  \n",
      "        ---------\n",
      "          |   |  \n",
      "        ---------\n",
      "          |   |  \n",
      "        \n",
      "Enter your move: 8'\n"
     ]
    },
    {
     "ename": "ValueError",
     "evalue": "invalid literal for int() with base 10: \"8'\"",
     "output_type": "error",
     "traceback": [
      "\u001b[0;31m---------------------------------------------------------------------------\u001b[0m",
      "\u001b[0;31mValueError\u001b[0m                                Traceback (most recent call last)",
      "\u001b[0;32m/var/folders/61/r_vs5l1j7m91kw2v12g_zjsr0000gn/T/ipykernel_2971/3379464811.py\u001b[0m in \u001b[0;36m<module>\u001b[0;34m\u001b[0m\n\u001b[0;32m----> 1\u001b[0;31m \u001b[0mgame\u001b[0m\u001b[0;34m.\u001b[0m\u001b[0mplay\u001b[0m\u001b[0;34m(\u001b[0m\u001b[0;34m)\u001b[0m\u001b[0;34m\u001b[0m\u001b[0;34m\u001b[0m\u001b[0m\n\u001b[0m",
      "\u001b[0;32m/var/folders/61/r_vs5l1j7m91kw2v12g_zjsr0000gn/T/ipykernel_2971/763860712.py\u001b[0m in \u001b[0;36mplay\u001b[0;34m(self)\u001b[0m\n\u001b[1;32m     65\u001b[0m                 \u001b[0mprint\u001b[0m\u001b[0;34m(\u001b[0m\u001b[0;34mf\"{player.name}'s Turn\"\u001b[0m\u001b[0;34m)\u001b[0m\u001b[0;34m\u001b[0m\u001b[0;34m\u001b[0m\u001b[0m\n\u001b[1;32m     66\u001b[0m                 \u001b[0mself\u001b[0m\u001b[0;34m.\u001b[0m\u001b[0mprint_board\u001b[0m\u001b[0;34m(\u001b[0m\u001b[0;34m)\u001b[0m\u001b[0;34m\u001b[0m\u001b[0;34m\u001b[0m\u001b[0m\n\u001b[0;32m---> 67\u001b[0;31m             \u001b[0mmove\u001b[0m \u001b[0;34m=\u001b[0m \u001b[0mplayer\u001b[0m\u001b[0;34m.\u001b[0m\u001b[0mmake_move\u001b[0m\u001b[0;34m(\u001b[0m\u001b[0;34m)\u001b[0m\u001b[0;34m\u001b[0m\u001b[0;34m\u001b[0m\u001b[0m\n\u001b[0m\u001b[1;32m     68\u001b[0m \u001b[0;34m\u001b[0m\u001b[0m\n\u001b[1;32m     69\u001b[0m             \u001b[0;31m#check validity\u001b[0m\u001b[0;34m\u001b[0m\u001b[0;34m\u001b[0m\u001b[0m\n",
      "\u001b[0;32m/var/folders/61/r_vs5l1j7m91kw2v12g_zjsr0000gn/T/ipykernel_2971/4255218835.py\u001b[0m in \u001b[0;36mmake_move\u001b[0;34m(self)\u001b[0m\n\u001b[1;32m      8\u001b[0m     \u001b[0;32mdef\u001b[0m \u001b[0mmake_move\u001b[0m\u001b[0;34m(\u001b[0m\u001b[0mself\u001b[0m\u001b[0;34m)\u001b[0m\u001b[0;34m:\u001b[0m\u001b[0;31m#user bata input liney lai\u001b[0m\u001b[0;34m\u001b[0m\u001b[0;34m\u001b[0m\u001b[0m\n\u001b[1;32m      9\u001b[0m         \u001b[0mans\u001b[0m \u001b[0;34m=\u001b[0m \u001b[0minput\u001b[0m\u001b[0;34m(\u001b[0m\u001b[0;34m'Enter your move: '\u001b[0m\u001b[0;34m)\u001b[0m\u001b[0;34m\u001b[0m\u001b[0;34m\u001b[0m\u001b[0m\n\u001b[0;32m---> 10\u001b[0;31m         \u001b[0;32mreturn\u001b[0m \u001b[0mint\u001b[0m\u001b[0;34m(\u001b[0m\u001b[0mans\u001b[0m\u001b[0;34m)\u001b[0m\u001b[0;34m\u001b[0m\u001b[0;34m\u001b[0m\u001b[0m\n\u001b[0m\u001b[1;32m     11\u001b[0m \u001b[0;34m\u001b[0m\u001b[0m\n\u001b[1;32m     12\u001b[0m     \u001b[0;32mdef\u001b[0m  \u001b[0mnew_game\u001b[0m\u001b[0;34m(\u001b[0m\u001b[0mself\u001b[0m\u001b[0;34m)\u001b[0m\u001b[0;34m:\u001b[0m\u001b[0;34m\u001b[0m\u001b[0;34m\u001b[0m\u001b[0m\n",
      "\u001b[0;31mValueError\u001b[0m: invalid literal for int() with base 10: \"8'\""
     ]
    }
   ],
   "source": [
    "game.play()"
   ]
  },
  {
   "cell_type": "code",
   "execution_count": null,
   "id": "ee940004",
   "metadata": {},
   "outputs": [],
   "source": [
    "class AI(Player):\n",
    "    def __init__(self,name,char,epsilon,gamma,alpha):\n",
    "        self.name=name\n",
    "        self.char=char\n",
    "        self.type_='AI'\n",
    "        self.epsilon=epsilon  #Epsilon-Greedy\n",
    "        self.gamma=gamma      #Discount Factor\n",
    "        self.alpha=alpha      #learning Rate\n",
    "        self.q_table={}\n",
    "    def new_game(self):\n",
    "        self.prev_board=()\n",
    "        self.prev_action=None\n",
    "    def winner(self):\n",
    "        pass\n",
    "    def get_Q(self,state,action):\n",
    "        if self.q_table.get((state,action))==None:\n",
    "            self.q_table[(state,action)]=5\n",
    "        return self.q_table[(state,action)]\n",
    "    def make_move(self,board):\n",
    "        #save old state\n",
    "        self.prev_board=tuple(board)\n",
    "        available_action=self.available_moves(board)\n",
    "        #Eplison Greedy method\n",
    "        if random.random()<self.epsilon:\n",
    "            action_taken=random.choice(available_action)\n",
    "            self.prev_action=action_taken\n",
    "            self.epsilon*=0.9999\n",
    "            return action_taken\n",
    "        q_values=[]\n",
    "        for action in available_action:\n",
    "            q_values.append(self.get_Q(self.prev_board,action))\n",
    "        max_q_val=max(q_values)\n",
    "        index=q_values.index(max_q_val)\n",
    "        \n",
    "        action_taken = available_action[index]\n",
    "        self.prev_action=action_taken\n",
    "        return action_taken\n",
    "    def reward(self,value,board):\n",
    "        if self.prev_action:\n",
    "            self.q_learn(self.prev_board,self.prev_action,value, tuple(board))\n",
    "        \n",
    "    \n",
    "    def q_learn(self,state,action,reward,new_state):\n",
    "        prev_q_val = self.get_Q(state,action)\n",
    "        available_action= self.available_moves(state)\n",
    "        q_values=[self.get_Q(new_state, action)for action in available_action ]\n",
    "        max_q=max(q_values)\n",
    "        self.q_learn[(state,action)]=prev_q_val + self.alpha * (reward + sel.gamma*(max_q)-prev_q_val)\n",
    "        "
   ]
  },
  {
   "cell_type": "code",
   "execution_count": null,
   "id": "01c1fa31",
   "metadata": {},
   "outputs": [],
   "source": []
  }
 ],
 "metadata": {
  "kernelspec": {
   "display_name": "Python 3 (ipykernel)",
   "language": "python",
   "name": "python3"
  },
  "language_info": {
   "codemirror_mode": {
    "name": "ipython",
    "version": 3
   },
   "file_extension": ".py",
   "mimetype": "text/x-python",
   "name": "python",
   "nbconvert_exporter": "python",
   "pygments_lexer": "ipython3",
   "version": "3.9.7"
  }
 },
 "nbformat": 4,
 "nbformat_minor": 5
}
