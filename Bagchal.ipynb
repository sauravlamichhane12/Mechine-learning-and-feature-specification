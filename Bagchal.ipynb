{
 "cells": [
  {
   "cell_type": "code",
   "execution_count": 1,
   "id": "876a9010",
   "metadata": {},
   "outputs": [],
   "source": [
    "import numpy as np\n",
    "import pandas as pd"
   ]
  },
  {
   "cell_type": "code",
   "execution_count": 2,
   "id": "d9095f7c",
   "metadata": {},
   "outputs": [
    {
     "data": {
      "text/plain": [
       "array([['', '', '', '', ''],\n",
       "       ['', '', '', '', ''],\n",
       "       ['', '', '', '', ''],\n",
       "       ['', '', '', '', ''],\n",
       "       ['', '', '', '', '']], dtype='<U1')"
      ]
     },
     "execution_count": 2,
     "metadata": {},
     "output_type": "execute_result"
    }
   ],
   "source": [
    "np.array(['']*25).reshape(5,5)"
   ]
  },
  {
   "cell_type": "code",
   "execution_count": 21,
   "id": "ad272fa7",
   "metadata": {},
   "outputs": [],
   "source": [
    "class Bagchal:\n",
    "    def __init__(self, player1,player2):\n",
    "        self.board=np.array(['']*25).reshape(5,5)\n",
    "        self.player=player1\n",
    "        self.other_player=player2\n",
    "        \n",
    "        self.goat_killed=0\n",
    "        self.tigers_blocked=0\n",
    "        self.goats_blocked=0\n",
    "        self.goat_in_hand=20\n",
    "        tiger_initial_position=[[0,0],[0,4],[4,0],[4,4]]\n",
    "        for pos in tiger_initial_position:\n",
    "            X,y=pos\n",
    "            self.board[X][y]='T'\n",
    "        del tiger_initial_position\n",
    "    def print_board(self,):\n",
    "        print(pd.DataFrame(self.board).replace(to_replace='', value='.'))\n",
    "        def play():\n",
    "            player= self.player\n",
    "            #players makes move\n",
    "            #Check validity\n",
    "            #if invalid: ask input again\n",
    "            #make change to the board\n",
    "            #check wineer\n",
    "            #if win:exit\n",
    "            self.player,self.other_player= self.other_player, self.player"
   ]
  },
  {
   "cell_type": "code",
   "execution_count": 20,
   "id": "471ef00d",
   "metadata": {},
   "outputs": [
    {
     "name": "stdout",
     "output_type": "stream",
     "text": [
      "   0  1  2  3  4\n",
      "0  T  .  .  .  T\n",
      "1  .  .  .  .  .\n",
      "2  .  .  .  .  .\n",
      "3  .  .  .  .  .\n",
      "4  T  .  .  .  T\n"
     ]
    }
   ],
   "source": [
    "bagchal = Bagchal('p1','p2')\n",
    "bagchal.print_board()"
   ]
  },
  {
   "cell_type": "code",
   "execution_count": null,
   "id": "bd3a6c8a",
   "metadata": {},
   "outputs": [],
   "source": []
  }
 ],
 "metadata": {
  "kernelspec": {
   "display_name": "Python 3 (ipykernel)",
   "language": "python",
   "name": "python3"
  },
  "language_info": {
   "codemirror_mode": {
    "name": "ipython",
    "version": 3
   },
   "file_extension": ".py",
   "mimetype": "text/x-python",
   "name": "python",
   "nbconvert_exporter": "python",
   "pygments_lexer": "ipython3",
   "version": "3.9.7"
  }
 },
 "nbformat": 4,
 "nbformat_minor": 5
}
