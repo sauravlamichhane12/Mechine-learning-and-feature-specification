{
 "cells": [
  {
   "cell_type": "markdown",
   "id": "e2675663",
   "metadata": {},
   "source": [
    "# Scikit Learn Pipelines"
   ]
  },
  {
   "cell_type": "code",
   "execution_count": 3,
   "id": "369219b7",
   "metadata": {},
   "outputs": [],
   "source": [
    "##Pipelines chains together multiple steps so that the output of each step is used as input to the next step\n",
    "##Pipelines makes it easy to apply the same preprocessing to train and test"
   ]
  },
  {
   "cell_type": "code",
   "execution_count": null,
   "id": "bd6cc54b",
   "metadata": {},
   "outputs": [],
   "source": []
  }
 ],
 "metadata": {
  "kernelspec": {
   "display_name": "Python 3 (ipykernel)",
   "language": "python",
   "name": "python3"
  },
  "language_info": {
   "codemirror_mode": {
    "name": "ipython",
    "version": 3
   },
   "file_extension": ".py",
   "mimetype": "text/x-python",
   "name": "python",
   "nbconvert_exporter": "python",
   "pygments_lexer": "ipython3",
   "version": "3.9.7"
  }
 },
 "nbformat": 4,
 "nbformat_minor": 5
}
